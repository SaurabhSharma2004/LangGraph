{
 "cells": [
  {
   "cell_type": "code",
   "execution_count": 1,
   "id": "fe42385b",
   "metadata": {},
   "outputs": [],
   "source": [
    "from typing import List, TypedDict\n",
    "from langgraph.graph import StateGraph"
   ]
  },
  {
   "cell_type": "code",
   "execution_count": 10,
   "id": "444291fd",
   "metadata": {},
   "outputs": [],
   "source": [
    "class AgentState(TypedDict):\n",
    "    \"\"\"\n",
    "    Represents the state of the agent.\n",
    "    \"\"\"\n",
    "    name: str\n",
    "    values: List[int]\n",
    "    operator: str\n",
    "    result: str"
   ]
  },
  {
   "cell_type": "code",
   "execution_count": 11,
   "id": "c08a3584",
   "metadata": {},
   "outputs": [],
   "source": [
    "def process_values(state:AgentState) -> AgentState:\n",
    "    \"\"\"Process the values in the state\"\"\"\n",
    "    if state['operator'] == \"+\":\n",
    "        state['result'] = f\"hey, {state['name']}! The sum is {sum(state['values'])}.\"\n",
    "    elif state['operator'] == \"*\":\n",
    "        product = 1\n",
    "        for value in state['values']:\n",
    "            product *= value\n",
    "        state['result'] = f\"hey, {state['name']}! The product is {product}.\"\n",
    "    return state"
   ]
  },
  {
   "cell_type": "code",
   "execution_count": 12,
   "id": "6e30411d",
   "metadata": {},
   "outputs": [],
   "source": [
    "graph = StateGraph(AgentState)\n",
    "\n",
    "graph.add_node(\"processor\", process_values)\n",
    "graph.set_entry_point(\"processor\")\n",
    "graph.set_finish_point(\"processor\")\n",
    "\n",
    "app = graph.compile()"
   ]
  },
  {
   "cell_type": "code",
   "execution_count": 15,
   "id": "1992fcba",
   "metadata": {},
   "outputs": [
    {
     "name": "stdout",
     "output_type": "stream",
     "text": [
      "{'name': 'Alice', 'values': [1, 2, 5], 'operator': '*', 'result': 'hey, Alice! The product is 10.'}\n"
     ]
    }
   ],
   "source": [
    "answer = app.invoke({\"name\": \"Alice\", \"values\": [1, 2, 5], \"operator\": \"*\"})\n",
    "print(answer)"
   ]
  },
  {
   "cell_type": "code",
   "execution_count": null,
   "id": "89733553",
   "metadata": {},
   "outputs": [],
   "source": []
  }
 ],
 "metadata": {
  "kernelspec": {
   "display_name": ".venv",
   "language": "python",
   "name": "python3"
  },
  "language_info": {
   "codemirror_mode": {
    "name": "ipython",
    "version": 3
   },
   "file_extension": ".py",
   "mimetype": "text/x-python",
   "name": "python",
   "nbconvert_exporter": "python",
   "pygments_lexer": "ipython3",
   "version": "3.12.2"
  }
 },
 "nbformat": 4,
 "nbformat_minor": 5
}
