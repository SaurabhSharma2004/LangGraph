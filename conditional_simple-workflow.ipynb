{
 "cells": [
  {
   "cell_type": "code",
   "execution_count": 16,
   "id": "79ff7685",
   "metadata": {},
   "outputs": [],
   "source": [
    "from langgraph.graph import StateGraph, START, END\n",
    "from typing import TypedDict, Literal"
   ]
  },
  {
   "cell_type": "code",
   "execution_count": 17,
   "id": "c200a752",
   "metadata": {},
   "outputs": [],
   "source": [
    "class QuardticState(TypedDict):\n",
    "    \"\"\"State structure of quardtic equtaion\"\"\"\n",
    "    a: int\n",
    "    b: int\n",
    "    c: int\n",
    "\n",
    "    equation: str\n",
    "    discriminant: float\n",
    "    roots: str"
   ]
  },
  {
   "cell_type": "code",
   "execution_count": 23,
   "id": "9546a263",
   "metadata": {},
   "outputs": [],
   "source": [
    "def show_equation(state: QuardticState):\n",
    "    \"\"\"create the quardtic equation for given a , b, c\"\"\"\n",
    "    equation = f'{state[\"a\"]}x^2 + {state[\"b\"]}x + {state[\"c\"]} = 0'\n",
    "    return {'equation': equation}\n",
    "\n",
    "def calculate_discriminant(state: QuardticState):\n",
    "    \"\"\"calculate the discriminant of the quardtic equation\"\"\"\n",
    "    a, b, c = state['a'], state['b'], state['c']\n",
    "    discriminant = b**2 - 4*a*c\n",
    "    return {'discriminant': discriminant}\n",
    "\n",
    "def real_roots(state: QuardticState):\n",
    "    \"\"\"calculate the real roots of the quardtic equation\"\"\"\n",
    "    a, b, c = state['a'], state['b'], state['c']\n",
    "    discriminant = state['discriminant']\n",
    "    root1 = (-b + discriminant**0.5) / (2*a)\n",
    "    root2 = (-b - discriminant**0.5) / (2*a)\n",
    "    result = f'Root1: {root1}, Root2: {root2}'\n",
    "    return {'roots': result}\n",
    "\n",
    "def repeated_root(state: QuardticState):\n",
    "    \"\"\"calculate the repeated root of the quardtic equation\"\"\"\n",
    "    a, b = state['a'], state['b']\n",
    "    root = -b / (2*a)\n",
    "    result = f'Repeated Root: {root}'\n",
    "    return {'roots': result}\n",
    "\n",
    "def complex_roots(state: QuardticState):\n",
    "    \"\"\"calculate the complex roots of the quardtic equation\"\"\"\n",
    "    a, b, c = state['a'], state['b'], state['c']\n",
    "    discriminant = state['discriminant']\n",
    "    real_part = -b / (2*a)\n",
    "    imaginary_part = (-discriminant)**0.5 / (2*a)\n",
    "    root1 = f'{real_part} + {imaginary_part}i'\n",
    "    root2 = f'{real_part} - {imaginary_part}i'\n",
    "    result = f'Root1: {root1}, Root2: {root2}'\n",
    "    return {'roots': result}"
   ]
  },
  {
   "cell_type": "code",
   "execution_count": 19,
   "id": "6682974f",
   "metadata": {},
   "outputs": [],
   "source": [
    "def check_condition(state: QuardticState) -> Literal['real_roots', 'repeated_root', 'complex_roots']:\n",
    "    \"\"\"Check the condition based on the discriminant value\"\"\"\n",
    "    discriminant = state['discriminant']\n",
    "\n",
    "    if discriminant > 0:\n",
    "        return 'real_roots'\n",
    "    elif discriminant == 0:\n",
    "        return 'repeated_root'\n",
    "    else: return 'complex_roots'"
   ]
  },
  {
   "cell_type": "code",
   "execution_count": 20,
   "id": "b0f03ee6",
   "metadata": {},
   "outputs": [
    {
     "data": {
      "image/png": "[encoded data removed]",
      "text/plain": [
       "<langgraph.graph.state.CompiledStateGraph object at 0x0000022B787DBA40>"
      ]
     },
     "execution_count": 20,
     "metadata": {},
     "output_type": "execute_result"
    }
   ],
   "source": [
    "graph = StateGraph(QuardticState)\n",
    "\n",
    "# add node\n",
    "graph.add_node('show_equation', show_equation)\n",
    "graph.add_node('calculate_discriminant', calculate_discriminant)\n",
    "graph.add_node('real_roots', real_roots)\n",
    "graph.add_node('repeated_root', repeated_root)\n",
    "graph.add_node('complex_roots', complex_roots)\n",
    "\n",
    "# add edges\n",
    "graph.add_edge(START, 'show_equation')\n",
    "graph.add_edge('show_equation', 'calculate_discriminant')\n",
    "graph.add_conditional_edges('calculate_discriminant', check_condition)\n",
    "graph.add_edge('real_roots', END)\n",
    "graph.add_edge('repeated_root', END)\n",
    "graph.add_edge('complex_roots', END)\n",
    "\n",
    "app = graph.compile()\n",
    "app"
   ]
  },
  {
   "cell_type": "code",
   "execution_count": 24,
   "id": "d754f764",
   "metadata": {},
   "outputs": [],
   "source": [
    "res = app.invoke({'a': 1, 'b': -3, 'c': 2})"
   ]
  },
  {
   "cell_type": "code",
   "execution_count": 25,
   "id": "b6167671",
   "metadata": {},
   "outputs": [
    {
     "name": "stdout",
     "output_type": "stream",
     "text": [
      "{'a': 1, 'b': -3, 'c': 2, 'equation': '1x2-3x2', 'discriminant': 1, 'roots': 'Root1: 2.0, Root2: 1.0'}\n"
     ]
    }
   ],
   "source": [
    "print(res)"
   ]
  },
  {
   "cell_type": "code",
   "execution_count": null,
   "id": "b48e8e83",
   "metadata": {},
   "outputs": [],
   "source": []
  }
 ],
 "metadata": {
  "kernelspec": {
   "display_name": ".venv",
   "language": "python",
   "name": "python3"
  },
  "language_info": {
   "codemirror_mode": {
    "name": "ipython",
    "version": 3
   },
   "file_extension": ".py",
   "mimetype": "text/x-python",
   "name": "python",
   "nbconvert_exporter": "python",
   "pygments_lexer": "ipython3",
   "version": "3.12.2"
  }
 },
 "nbformat": 4,
 "nbformat_minor": 5
}
