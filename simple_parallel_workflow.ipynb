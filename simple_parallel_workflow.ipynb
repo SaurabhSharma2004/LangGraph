{
 "cells": [
  {
   "cell_type": "code",
   "execution_count": 1,
   "id": "db9820f1",
   "metadata": {},
   "outputs": [],
   "source": [
    "from langgraph.graph import StateGraph, START, END\n",
    "from typing import TypedDict"
   ]
  },
  {
   "cell_type": "code",
   "execution_count": null,
   "id": "d1f7e6a7",
   "metadata": {},
   "outputs": [],
   "source": [
    "class BatsmenState(TypedDict):\n",
    "    \"\"\"State structure for batsmen analysis\"\"\"\n",
    "    run: int\n",
    "    balls: int\n",
    "    fours: int\n",
    "    sixes: int\n",
    "\n",
    "    strike_rate: float\n",
    "    boundary_percentage: float\n",
    "    balls_per_boundary: float\n",
    "    summary: str"
   ]
  },
  {
   "cell_type": "code",
   "execution_count": 8,
   "id": "41c1d852",
   "metadata": {},
   "outputs": [],
   "source": [
    "def calculate_strike_rate(state: BatsmenState):\n",
    "    \"\"\"Calculate the strike rate of a batsman.\"\"\"\n",
    "    sr = (state['run'] / state['balls']) * 100 if state['balls'] > 0 else 0\n",
    "    return {'strike_rate': sr}"
   ]
  },
  {
   "cell_type": "code",
   "execution_count": 9,
   "id": "d69f725d",
   "metadata": {},
   "outputs": [],
   "source": [
    "def calculate_boundary_percentage(state: BatsmenState):\n",
    "    \"\"\"Calculate the boundary percentage of a batsman.\"\"\"\n",
    "    total_boundaries = state['fours'] + state['sixes']\n",
    "    bp = (total_boundaries / state['balls']) * 100 if state['balls'] > 0 else 0\n",
    "    return {'boundary_percentage': bp}"
   ]
  },
  {
   "cell_type": "code",
   "execution_count": 10,
   "id": "0c024471",
   "metadata": {},
   "outputs": [],
   "source": [
    "def calculate_balls_per_boundary(state: BatsmenState):\n",
    "    \"\"\"Calculate the balls per boundary\"\"\"\n",
    "    total_boundaries = state['fours'] + state['sixes']\n",
    "    bpb = state['balls'] / total_boundaries\n",
    "    return {'bpb': bpb}"
   ]
  },
  {
   "cell_type": "code",
   "execution_count": 11,
   "id": "54995d5d",
   "metadata": {},
   "outputs": [],
   "source": [
    "def calculate_summary(state: BatsmenState):\n",
    "    \"\"\"Generate a summary of the batsman's performance.\"\"\"\n",
    "    summary = (f\"Batsman scored {state['run']} runs off {state['balls']} balls, \"\n",
    "               f\"with a strike rate of {state['strike_rate']:.2f} and \"\n",
    "               f\"a boundary percentage of {state['boundary_percentage']:.2f}%.\")\n",
    "    return {'summary': summary}"
   ]
  },
  {
   "cell_type": "code",
   "execution_count": 14,
   "id": "f6ff516c",
   "metadata": {},
   "outputs": [
    {
     "data": {
      "image/png": "[encoded data removed]",
      "text/plain": [
       "<langgraph.graph.state.CompiledStateGraph object at 0x000001777A550380>"
      ]
     },
     "execution_count": 14,
     "metadata": {},
     "output_type": "execute_result"
    }
   ],
   "source": [
    "graph = StateGraph(BatsmenState)\n",
    "\n",
    "# add nodes\n",
    "graph.add_node('sr', calculate_strike_rate)\n",
    "graph.add_node('bp', calculate_boundary_percentage)\n",
    "graph.add_node('bpb', calculate_balls_per_boundary)\n",
    "graph.add_node('match_summary', calculate_summary)\n",
    "\n",
    "# add edges\n",
    "graph.add_edge(START, 'sr')\n",
    "graph.add_edge(START, 'bp')\n",
    "graph.add_edge(START, 'bpb')\n",
    "\n",
    "graph.add_edge('sr', 'match_summary')\n",
    "graph.add_edge('bp', 'match_summary')\n",
    "graph.add_edge('bpb', 'match_summary')\n",
    "graph.add_edge('match_summary', END)\n",
    "\n",
    "app = graph.compile()\n",
    "app"
   ]
  },
  {
   "cell_type": "code",
   "execution_count": 15,
   "id": "14d73039",
   "metadata": {},
   "outputs": [
    {
     "name": "stdout",
     "output_type": "stream",
     "text": [
      "{'run': 100, 'balls': 60, 'fours': 8, 'sixes': 2, 'strike_rate': 166.66666666666669, 'boundary_percentage': 16.666666666666664, 'summary': 'Batsman scored 100 runs off 60 balls, with a strike rate of 166.67 and a boundary percentage of 16.67%.'}\n"
     ]
    }
   ],
   "source": [
    "res = app.invoke({'run':100, 'balls':60, 'fours':8, 'sixes':2})\n",
    "print(res)"
   ]
  },
  {
   "cell_type": "code",
   "execution_count": null,
   "id": "762c09b4",
   "metadata": {},
   "outputs": [],
   "source": []
  }
 ],
 "metadata": {
  "kernelspec": {
   "display_name": ".venv",
   "language": "python",
   "name": "python3"
  },
  "language_info": {
   "codemirror_mode": {
    "name": "ipython",
    "version": 3
   },
   "file_extension": ".py",
   "mimetype": "text/x-python",
   "name": "python",
   "nbconvert_exporter": "python",
   "pygments_lexer": "ipython3",
   "version": "3.12.2"
  }
 },
 "nbformat": 4,
 "nbformat_minor": 5
}
