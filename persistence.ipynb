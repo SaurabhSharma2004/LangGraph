{
 "cells": [
  {
   "cell_type": "code",
   "execution_count": 1,
   "id": "a81988c0",
   "metadata": {},
   "outputs": [],
   "source": [
    "from langgraph.graph import StateGraph, START, END\n",
    "from langchain_google_genai import ChatGoogleGenerativeAI\n",
    "from langgraph.checkpoint.memory import InMemorySaver\n",
    "from typing import TypedDict\n",
    "from dotenv import load_dotenv"
   ]
  },
  {
   "cell_type": "code",
   "execution_count": 2,
   "id": "b3b47493",
   "metadata": {},
   "outputs": [
    {
     "data": {
      "text/plain": [
       "True"
      ]
     },
     "execution_count": 2,
     "metadata": {},
     "output_type": "execute_result"
    }
   ],
   "source": [
    "load_dotenv()"
   ]
  },
  {
   "cell_type": "code",
   "execution_count": 4,
   "id": "be2ee66b",
   "metadata": {},
   "outputs": [],
   "source": [
    "model = ChatGoogleGenerativeAI(\n",
    "    model='gemini-2.5-flash',\n",
    "    temperature=0.7,\n",
    ")"
   ]
  },
  {
   "cell_type": "code",
   "execution_count": 5,
   "id": "242aeaae",
   "metadata": {},
   "outputs": [],
   "source": [
    "class JokeState(TypedDict):\n",
    "    topic: str\n",
    "    joke: str\n",
    "    explanation: str"
   ]
  },
  {
   "cell_type": "code",
   "execution_count": 6,
   "id": "77719fef",
   "metadata": {},
   "outputs": [],
   "source": [
    "def generate_joke(state: JokeState):\n",
    "    topic = state['topic']\n",
    "    prompt = f\"Tell me a joke about {topic} in less than 30 words.\"\n",
    "    joke = model.invoke(prompt).content\n",
    "    return {'joke': joke}\n",
    "\n",
    "def explain_joke(state: JokeState):\n",
    "    joke = state['joke']\n",
    "    prompt = f\"Explain the following joke in less than 50 words: {joke}\"\n",
    "    explanation = model.invoke(prompt).content\n",
    "    return {'explanation': explanation}"
   ]
  },
  {
   "cell_type": "code",
   "execution_count": 7,
   "id": "011ba0b8",
   "metadata": {},
   "outputs": [],
   "source": [
    "graph = StateGraph(JokeState)\n",
    "\n",
    "graph.add_node('generate_joke', generate_joke)\n",
    "graph.add_node('explain_joke', explain_joke)\n",
    "\n",
    "graph.add_edge(START, 'generate_joke')\n",
    "graph.add_edge('generate_joke', 'explain_joke')\n",
    "graph.add_edge('explain_joke', END)\n",
    "\n",
    "checkpoint = InMemorySaver()\n",
    "app = graph.compile(checkpointer=checkpoint)"
   ]
  },
  {
   "cell_type": "code",
   "execution_count": 8,
   "id": "7ebf2095",
   "metadata": {},
   "outputs": [
    {
     "data": {
      "image/png": "[encoded data removed]",
      "text/plain": [
       "<langgraph.graph.state.CompiledStateGraph object at 0x000002C2B0E0B260>"
      ]
     },
     "execution_count": 8,
     "metadata": {},
     "output_type": "execute_result"
    }
   ],
   "source": [
    "app"
   ]
  },
  {
   "cell_type": "code",
   "execution_count": 9,
   "id": "7e7cc485",
   "metadata": {},
   "outputs": [],
   "source": [
    "thread_id = '1'\n",
    "config = {'configurable': {'thread_id': thread_id}}\n",
    "\n",
    "res = app.invoke({'topic': 'indian railways'}, config=config)"
   ]
  },
  {
   "cell_type": "code",
   "execution_count": 10,
   "id": "0d5783b0",
   "metadata": {},
   "outputs": [
    {
     "name": "stdout",
     "output_type": "stream",
     "text": [
      "{'topic': 'indian railways', 'joke': 'Why did the Indian train bring a calendar? It wanted to mark all the days it was *supposed* to arrive.', 'explanation': 'Indian trains are notorious for significant delays. The joke humorously suggests the train needs a calendar to record the many different dates it *failed* to arrive on schedule, highlighting its unreliability rather than its punctuality.'}\n"
     ]
    }
   ],
   "source": [
    "print(res)"
   ]
  },
  {
   "cell_type": "code",
   "execution_count": 12,
   "id": "7c731c10",
   "metadata": {},
   "outputs": [
    {
     "name": "stdout",
     "output_type": "stream",
     "text": [
      "StateSnapshot(values={'topic': 'indian railways', 'joke': 'Why did the Indian train bring a calendar? It wanted to mark all the days it was *supposed* to arrive.', 'explanation': 'Indian trains are notorious for significant delays. The joke humorously suggests the train needs a calendar to record the many different dates it *failed* to arrive on schedule, highlighting its unreliability rather than its punctuality.'}, next=(), config={'configurable': {'thread_id': '1', 'checkpoint_ns': '', 'checkpoint_id': '1f093879-52b4-6e17-8002-301ed3ce8389'}}, metadata={'source': 'loop', 'writes': {'explain_joke': {'explanation': 'Indian trains are notorious for significant delays. The joke humorously suggests the train needs a calendar to record the many different dates it *failed* to arrive on schedule, highlighting its unreliability rather than its punctuality.'}}, 'step': 2, 'parents': {}, 'thread_id': '1'}, created_at='2025-09-17T05:31:38.099663+00:00', parent_config={'configurable': {'thread_id': '1', 'checkpoint_ns': '', 'checkpoint_id': '1f093879-1f0c-6b75-8001-1d5ee1dbe597'}}, tasks=(), interrupts=())\n"
     ]
    }
   ],
   "source": [
    "print(app.get_state(config))"
   ]
  },
  {
   "cell_type": "code",
   "execution_count": 13,
   "id": "2c82f05b",
   "metadata": {},
   "outputs": [
    {
     "data": {
      "text/plain": [
       "[StateSnapshot(values={'topic': 'indian railways', 'joke': 'Why did the Indian train bring a calendar? It wanted to mark all the days it was *supposed* to arrive.', 'explanation': 'Indian trains are notorious for significant delays. The joke humorously suggests the train needs a calendar to record the many different dates it *failed* to arrive on schedule, highlighting its unreliability rather than its punctuality.'}, next=(), config={'configurable': {'thread_id': '1', 'checkpoint_ns': '', 'checkpoint_id': '1f093879-52b4-6e17-8002-301ed3ce8389'}}, metadata={'source': 'loop', 'writes': {'explain_joke': {'explanation': 'Indian trains are notorious for significant delays. The joke humorously suggests the train needs a calendar to record the many different dates it *failed* to arrive on schedule, highlighting its unreliability rather than its punctuality.'}}, 'step': 2, 'parents': {}, 'thread_id': '1'}, created_at='2025-09-17T05:31:38.099663+00:00', parent_config={'configurable': {'thread_id': '1', 'checkpoint_ns': '', 'checkpoint_id': '1f093879-1f0c-6b75-8001-1d5ee1dbe597'}}, tasks=(), interrupts=()),\n",
       " StateSnapshot(values={'topic': 'indian railways', 'joke': 'Why did the Indian train bring a calendar? It wanted to mark all the days it was *supposed* to arrive.'}, next=('explain_joke',), config={'configurable': {'thread_id': '1', 'checkpoint_ns': '', 'checkpoint_id': '1f093879-1f0c-6b75-8001-1d5ee1dbe597'}}, metadata={'source': 'loop', 'writes': {'generate_joke': {'joke': 'Why did the Indian train bring a calendar? It wanted to mark all the days it was *supposed* to arrive.'}}, 'step': 1, 'parents': {}, 'thread_id': '1'}, created_at='2025-09-17T05:31:32.683045+00:00', parent_config={'configurable': {'thread_id': '1', 'checkpoint_ns': '', 'checkpoint_id': '1f093878-c4c2-66d5-8000-d8cf5450d990'}}, tasks=(PregelTask(id='ea52dd0b-98dd-8c5e-010f-4900ac81c8bb', name='explain_joke', path=('__pregel_pull', 'explain_joke'), error=None, interrupts=(), state=None, result={'explanation': 'Indian trains are notorious for significant delays. The joke humorously suggests the train needs a calendar to record the many different dates it *failed* to arrive on schedule, highlighting its unreliability rather than its punctuality.'}),), interrupts=()),\n",
       " StateSnapshot(values={'topic': 'indian railways'}, next=('generate_joke',), config={'configurable': {'thread_id': '1', 'checkpoint_ns': '', 'checkpoint_id': '1f093878-c4c2-66d5-8000-d8cf5450d990'}}, metadata={'source': 'loop', 'writes': None, 'step': 0, 'parents': {}, 'thread_id': '1'}, created_at='2025-09-17T05:31:23.215432+00:00', parent_config={'configurable': {'thread_id': '1', 'checkpoint_ns': '', 'checkpoint_id': '1f093878-c4bd-687d-bfff-9cc257ce4b6c'}}, tasks=(PregelTask(id='9097d8f6-eb9c-7a13-6b82-f60f582136ce', name='generate_joke', path=('__pregel_pull', 'generate_joke'), error=None, interrupts=(), state=None, result={'joke': 'Why did the Indian train bring a calendar? It wanted to mark all the days it was *supposed* to arrive.'}),), interrupts=()),\n",
       " StateSnapshot(values={}, next=('__start__',), config={'configurable': {'thread_id': '1', 'checkpoint_ns': '', 'checkpoint_id': '1f093878-c4bd-687d-bfff-9cc257ce4b6c'}}, metadata={'source': 'input', 'writes': {'__start__': {'topic': 'indian railways'}}, 'step': -1, 'parents': {}, 'thread_id': '1'}, created_at='2025-09-17T05:31:23.213426+00:00', parent_config=None, tasks=(PregelTask(id='12d6c778-4a9a-25d8-3db9-f71ed08c3abb', name='__start__', path=('__pregel_pull', '__start__'), error=None, interrupts=(), state=None, result={'topic': 'indian railways'}),), interrupts=())]"
      ]
     },
     "execution_count": 13,
     "metadata": {},
     "output_type": "execute_result"
    }
   ],
   "source": [
    "list(app.get_state_history(config))"
   ]
  },
  {
   "cell_type": "code",
   "execution_count": null,
   "id": "994bd7c6",
   "metadata": {},
   "outputs": [],
   "source": []
  }
 ],
 "metadata": {
  "kernelspec": {
   "display_name": ".venv",
   "language": "python",
   "name": "python3"
  },
  "language_info": {
   "codemirror_mode": {
    "name": "ipython",
    "version": 3
   },
   "file_extension": ".py",
   "mimetype": "text/x-python",
   "name": "python",
   "nbconvert_exporter": "python",
   "pygments_lexer": "ipython3",
   "version": "3.12.2"
  }
 },
 "nbformat": 4,
 "nbformat_minor": 5
}
